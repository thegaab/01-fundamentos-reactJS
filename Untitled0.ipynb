{
  "nbformat": 4,
  "nbformat_minor": 0,
  "metadata": {
    "colab": {
      "provenance": [],
      "authorship_tag": "ABX9TyNgMWn5tAor84wbh690cKiW",
      "include_colab_link": true
    },
    "kernelspec": {
      "name": "python3",
      "display_name": "Python 3"
    },
    "language_info": {
      "name": "python"
    }
  },
  "cells": [
    {
      "cell_type": "markdown",
      "metadata": {
        "id": "view-in-github",
        "colab_type": "text"
      },
      "source": [
        "<a href=\"https://colab.research.google.com/github/thegaab/01-fundamentos-reactJS/blob/main/Untitled0.ipynb\" target=\"_parent\"><img src=\"https://colab.research.google.com/assets/colab-badge.svg\" alt=\"Open In Colab\"/></a>"
      ]
    },
    {
      "cell_type": "markdown",
      "source": [
        "Instalando o SDK do Google"
      ],
      "metadata": {
        "id": "FYtZ2R15--PN"
      }
    },
    {
      "cell_type": "code",
      "execution_count": null,
      "metadata": {
        "id": "EsupBXu07j7k"
      },
      "outputs": [],
      "source": [
        "!pip install -q -U google-generativeai"
      ]
    },
    {
      "cell_type": "markdown",
      "source": [
        "Importando API KEY"
      ],
      "metadata": {
        "id": "dyjXCkNY_zHl"
      }
    },
    {
      "cell_type": "code",
      "source": [
        "import google.generativeai as genai\n",
        "\n",
        "from google.colab import  userdata\n",
        "API_KEY = userdata.get('SECRET_KEY')\n",
        "\n",
        "genai.configure(api_key=API_KEY)"
      ],
      "metadata": {
        "id": "QBm9IS21_WN0"
      },
      "execution_count": 31,
      "outputs": []
    },
    {
      "cell_type": "markdown",
      "source": [
        "Listar os modelos disponiveis"
      ],
      "metadata": {
        "id": "7QmzkoF4_wN2"
      }
    },
    {
      "cell_type": "code",
      "source": [
        "for m in genai.list_models():\n",
        "  if 'generateContent' in m.supported_generation_methods:\n",
        "    print(m.name)"
      ],
      "metadata": {
        "colab": {
          "base_uri": "https://localhost:8080/",
          "height": 138
        },
        "id": "pBGODZCm_sdV",
        "outputId": "4c30edb0-d116-47b8-e4fa-5bf2396db5d4"
      },
      "execution_count": null,
      "outputs": [
        {
          "output_type": "stream",
          "name": "stdout",
          "text": [
            "models/gemini-1.0-pro\n",
            "models/gemini-1.0-pro-001\n",
            "models/gemini-1.0-pro-latest\n",
            "models/gemini-1.0-pro-vision-latest\n",
            "models/gemini-1.5-pro-latest\n",
            "models/gemini-pro\n",
            "models/gemini-pro-vision\n"
          ]
        }
      ]
    },
    {
      "cell_type": "code",
      "source": [
        "generation_config = {\n",
        "    \"candidate_count\": 1,\n",
        "    \"temperature\": 0.5\n",
        "}"
      ],
      "metadata": {
        "id": "onLIdU_4C4Ku"
      },
      "execution_count": null,
      "outputs": []
    },
    {
      "cell_type": "markdown",
      "source": [],
      "metadata": {
        "id": "GmY5KgCeGD1z"
      }
    },
    {
      "cell_type": "code",
      "source": [
        "safety_settings = {\n",
        "    \"HARASSMENT\": \"BLOCK_NONE\",\n",
        "    \"HATE\": \"BLOCK_NONE\",\n",
        "    \"SEXUAL\": \"BLOCK_NONE\",\n",
        "    \"DANGEROUS\": \"BLOCK_NONE\"\n",
        "}"
      ],
      "metadata": {
        "id": "1BD34Py3Evol"
      },
      "execution_count": null,
      "outputs": []
    },
    {
      "cell_type": "markdown",
      "source": [
        "Inicializando o modelo"
      ],
      "metadata": {
        "id": "SvXHiZsHGHsF"
      }
    },
    {
      "cell_type": "code",
      "source": [
        "model = genai.GenerativeModel(model_name=\"gemini-1.0-pro\",\n",
        "                              generation_config=generation_config,\n",
        "                              safety_settings=safety_settings)"
      ],
      "metadata": {
        "id": "LXEG5C5lGJBZ"
      },
      "execution_count": null,
      "outputs": []
    },
    {
      "cell_type": "markdown",
      "source": [
        "Gerando uma resposta(response)"
      ],
      "metadata": {
        "id": "lQ6G7X0pG6Ei"
      }
    },
    {
      "cell_type": "code",
      "source": [
        "response = model.generate_content(\"Quero conhecer filmes de starwars. Me dê sugestões do que fazer\")\n",
        "print(response.text)"
      ],
      "metadata": {
        "colab": {
          "base_uri": "https://localhost:8080/",
          "height": 592
        },
        "id": "yzVVlTl8G-d7",
        "outputId": "4a4927f8-05b8-4f1e-a126-cbdeeb007ba9"
      },
      "execution_count": null,
      "outputs": [
        {
          "output_type": "stream",
          "name": "stdout",
          "text": [
            "**Sequência Principal**\n",
            "\n",
            "* Episódio IV: Uma Nova Esperança (1977)\n",
            "* Episódio V: O Império Contra-Ataca (1980)\n",
            "* Episódio VI: O Retorno de Jedi (1983)\n",
            "* Episódio I: A Ameaça Fantasma (1999)\n",
            "* Episódio II: Ataque dos Clones (2002)\n",
            "* Episódio III: A Vingança dos Sith (2005)\n",
            "\n",
            "**Filmes Spin-off**\n",
            "\n",
            "* Rogue One: Uma História Star Wars (2016)\n",
            "* Han Solo: Uma História Star Wars (2018)\n",
            "* Star Wars: Os Últimos Jedi (2017)\n",
            "* Star Wars: A Ascensão Skywalker (2019)\n",
            "\n",
            "**Séries de TV**\n",
            "\n",
            "* Star Wars: The Clone Wars (2008-2020)\n",
            "* Star Wars: Rebels (2014-2018)\n",
            "* The Mandalorian (2019-presente)\n",
            "* O Livro de Boba Fett (2021-presente)\n",
            "* Obi-Wan Kenobi (2022)\n",
            "* Andor (2022-presente)\n",
            "\n",
            "**Dicas para assistir:**\n",
            "\n",
            "* **Comece com a Trilogia Original:** Episódios IV, V e VI são a base da franquia e a melhor maneira de começar.\n",
            "* **Assista em ordem cronológica:** Embora os filmes tenham sido lançados fora de ordem, assistir em ordem cronológica pode fornecer uma compreensão mais profunda da história.\n",
            "* **Preste atenção aos detalhes:** Star Wars é conhecido por sua construção de mundo rica e detalhes intrincados.\n",
            "* **Leia os livros e quadrinhos:** Eles podem fornecer informações adicionais e aprofundar sua compreensão do universo.\n",
            "* **Junte-se a uma comunidade:** Existem muitos fóruns e grupos online onde você pode discutir Star Wars com outros fãs.\n"
          ]
        }
      ]
    },
    {
      "cell_type": "code",
      "source": [
        "chat = model.start_chat(history=[])"
      ],
      "metadata": {
        "id": "K-YoDq77JBX2"
      },
      "execution_count": null,
      "outputs": []
    },
    {
      "cell_type": "code",
      "source": [
        "prompt = input(\"Esperando prompt: \")\n",
        "\n",
        "while prompt != \"fim\":\n",
        "  response = chat.send_message(prompt)\n",
        "  print(\"Resposta: \", response.text, \"\\n\")\n",
        "  prompt = input(\"Esperando prompt: \")"
      ],
      "metadata": {
        "colab": {
          "base_uri": "https://localhost:8080/",
          "height": 1000
        },
        "id": "Qv_rPdmPKTsT",
        "outputId": "89ac171a-06c4-43c7-ae8d-3dc9381c3580"
      },
      "execution_count": null,
      "outputs": [
        {
          "name": "stdout",
          "output_type": "stream",
          "text": [
            "Esperando prompt: Existe séries de star wars?\n",
            "Resposta:  Sim, existem várias séries de Star Wars:\n",
            "\n",
            "**Séries de ação ao vivo:**\n",
            "\n",
            "* The Mandalorian\n",
            "* The Book of Boba Fett\n",
            "* Obi-Wan Kenobi\n",
            "* Andor\n",
            "* Ahsoka\n",
            "* Skeleton Crew\n",
            "* The Acolyte\n",
            "\n",
            "**Séries animadas:**\n",
            "\n",
            "* Star Wars: The Clone Wars\n",
            "* Star Wars Rebels\n",
            "* Star Wars: Resistance\n",
            "* Star Wars: The Bad Batch\n",
            "* Star Wars: Visions\n",
            "\n",
            "**Séries de antologia:**\n",
            "\n",
            "* Star Wars: Tales of the Jedi\n",
            "* Star Wars: Galaxy of Adventures\n",
            "\n",
            "**Séries documentais:**\n",
            "\n",
            "* Star Wars: The Story Behind the Magic\n",
            "* Star Wars: The Legacy Revealed\n",
            "* Star Wars: The Mandalorian - Making of the Season\n",
            "\n",
            "**Séries de curta-metragem:**\n",
            "\n",
            "* Star Wars: Forces of Destiny\n",
            "* Star Wars: Galaxy of Creatures\n",
            "* Star Wars: Roll Out\n",
            "* Star Wars: The Bad Batch - Clone Force 99\n",
            "* Star Wars: Visions - The Duel \n",
            "\n",
            "Esperando prompt: Qual a lingua tipica dessa série?\n",
            "Resposta:  A língua típica da franquia Star Wars é o **Basic**, também conhecido como **Galactic Basic Standard**. É a língua franca da galáxia, falada pela maioria dos seres sencientes.\n",
            "\n",
            "No entanto, existem muitas outras línguas faladas na galáxia de Star Wars, incluindo:\n",
            "\n",
            "* **Huttese:** Falada pelos Hutts, uma espécie de gângsteres\n",
            "* **Twi'leki:** Falada pelos Twi'leks, uma espécie com cabeças e caudas semelhantes a lekku\n",
            "* **Wookiee:** Falada pelos Wookiees, uma espécie alta e peluda\n",
            "* **Ewok:** Falada pelos Ewoks, uma espécie pequena e peluda\n",
            "* **Mandaloriano:** Falada pelos Mandalorianos, uma cultura guerreira\n",
            "* **Geonosiano:** Falada pelos Geonosianos, uma espécie insetóide\n",
            "* **Zabrak:** Falada pelos Zabrak, uma espécie com chifres\n",
            "* **Droid:** Falada pelos dróides, robôs sencientes\n",
            "\n",
            "Além disso, existem muitas outras línguas menores e dialetos falados em diferentes planetas e culturas da galáxia de Star Wars. \n",
            "\n",
            "Esperando prompt: Quantos habitantes existem nesse universo?\n",
            "Resposta:  O número exato de habitantes no universo de Star Wars é desconhecido, pois a galáxia é vasta e contém inúmeros planetas e sistemas estelares. No entanto, existem algumas estimativas:\n",
            "\n",
            "* **100 quatrilhões:** Esta é uma estimativa feita pelo autor de Star Wars, Timothy Zahn, em seu livro \"Specter of the Past\".\n",
            "* **100 sextilhões:** Esta é uma estimativa feita pelo site Star Wars: The Old Republic.\n",
            "* **1.000 sextilhões:** Esta é uma estimativa feita pelo site Star Wars: The Essential Atlas.\n",
            "\n",
            "É importante notar que essas são apenas estimativas, e o número real de habitantes no universo de Star Wars pode ser muito maior ou menor.\n",
            "\n",
            "Além disso, a população da galáxia não é uniformemente distribuída. Alguns planetas, como Coruscant, são densamente povoados, enquanto outros, como Tatooine, são escassamente povoados.\n",
            "\n",
            "Em última análise, o número exato de habitantes no universo de Star Wars é um mistério, mas é certamente um número astronômico. \n",
            "\n",
            "Esperando prompt: fim\n"
          ]
        }
      ]
    },
    {
      "cell_type": "code",
      "source": [
        "chat"
      ],
      "metadata": {
        "colab": {
          "base_uri": "https://localhost:8080/"
        },
        "id": "FNx9BXmdN2rC",
        "outputId": "c78d2ab0-8dc7-4183-8d1a-30001c63806c"
      },
      "execution_count": 17,
      "outputs": [
        {
          "output_type": "execute_result",
          "data": {
            "text/plain": [
              "ChatSession(\n",
              "    model=genai.GenerativeModel(\n",
              "        model_name='models/gemini-1.0-pro',\n",
              "        generation_config={'candidate_count': 1, 'temperature': 0.5},\n",
              "        safety_settings={<HarmCategory.HARM_CATEGORY_HARASSMENT: 7>: <HarmBlockThreshold.BLOCK_NONE: 4>, <HarmCategory.HARM_CATEGORY_HATE_SPEECH: 8>: <HarmBlockThreshold.BLOCK_NONE: 4>, <HarmCategory.HARM_CATEGORY_SEXUALLY_EXPLICIT: 9>: <HarmBlockThreshold.BLOCK_NONE: 4>, <HarmCategory.HARM_CATEGORY_DANGEROUS_CONTENT: 10>: <HarmBlockThreshold.BLOCK_NONE: 4>},\n",
              "        tools=None,\n",
              "        system_instruction=None,\n",
              "    ),\n",
              "    history=[glm.Content({'parts': [{'text': 'Existe séries de star wars?'}], 'role': 'user'}), glm.Content({'parts': [{'text': 'Sim, existem...ns - The Duel'}], 'role': 'model'}), glm.Content({'parts': [{'text': 'Qual a lingu... dessa série?'}], 'role': 'user'}), glm.Content({'parts': [{'text': 'A língua típ...de Star Wars.'}], 'role': 'model'}), glm.Content({'parts': [{'text': 'Quantos habi...sse universo?'}], 'role': 'user'}), glm.Content({'parts': [{'text': 'O número exa... astronômico.'}], 'role': 'model'})]\n",
              ")"
            ]
          },
          "metadata": {},
          "execution_count": 17
        }
      ]
    },
    {
      "cell_type": "code",
      "source": [
        "chat.history"
      ],
      "metadata": {
        "colab": {
          "base_uri": "https://localhost:8080/"
        },
        "id": "ias_8qnPN71V",
        "outputId": "c799c36d-7d9a-436c-e15a-447bca58470e"
      },
      "execution_count": 18,
      "outputs": [
        {
          "output_type": "execute_result",
          "data": {
            "text/plain": [
              "[parts {\n",
              "   text: \"Existe s\\303\\251ries de star wars?\"\n",
              " }\n",
              " role: \"user\",\n",
              " parts {\n",
              "   text: \"Sim, existem v\\303\\241rias s\\303\\251ries de Star Wars:\\n\\n**S\\303\\251ries de a\\303\\247\\303\\243o ao vivo:**\\n\\n* The Mandalorian\\n* The Book of Boba Fett\\n* Obi-Wan Kenobi\\n* Andor\\n* Ahsoka\\n* Skeleton Crew\\n* The Acolyte\\n\\n**S\\303\\251ries animadas:**\\n\\n* Star Wars: The Clone Wars\\n* Star Wars Rebels\\n* Star Wars: Resistance\\n* Star Wars: The Bad Batch\\n* Star Wars: Visions\\n\\n**S\\303\\251ries de antologia:**\\n\\n* Star Wars: Tales of the Jedi\\n* Star Wars: Galaxy of Adventures\\n\\n**S\\303\\251ries documentais:**\\n\\n* Star Wars: The Story Behind the Magic\\n* Star Wars: The Legacy Revealed\\n* Star Wars: The Mandalorian - Making of the Season\\n\\n**S\\303\\251ries de curta-metragem:**\\n\\n* Star Wars: Forces of Destiny\\n* Star Wars: Galaxy of Creatures\\n* Star Wars: Roll Out\\n* Star Wars: The Bad Batch - Clone Force 99\\n* Star Wars: Visions - The Duel\"\n",
              " }\n",
              " role: \"model\",\n",
              " parts {\n",
              "   text: \"Qual a lingua tipica dessa s\\303\\251rie?\"\n",
              " }\n",
              " role: \"user\",\n",
              " parts {\n",
              "   text: \"A l\\303\\255ngua t\\303\\255pica da franquia Star Wars \\303\\251 o **Basic**, tamb\\303\\251m conhecido como **Galactic Basic Standard**. \\303\\211 a l\\303\\255ngua franca da gal\\303\\241xia, falada pela maioria dos seres sencientes.\\n\\nNo entanto, existem muitas outras l\\303\\255nguas faladas na gal\\303\\241xia de Star Wars, incluindo:\\n\\n* **Huttese:** Falada pelos Hutts, uma esp\\303\\251cie de g\\303\\242ngsteres\\n* **Twi\\'leki:** Falada pelos Twi\\'leks, uma esp\\303\\251cie com cabe\\303\\247as e caudas semelhantes a lekku\\n* **Wookiee:** Falada pelos Wookiees, uma esp\\303\\251cie alta e peluda\\n* **Ewok:** Falada pelos Ewoks, uma esp\\303\\251cie pequena e peluda\\n* **Mandaloriano:** Falada pelos Mandalorianos, uma cultura guerreira\\n* **Geonosiano:** Falada pelos Geonosianos, uma esp\\303\\251cie inset\\303\\263ide\\n* **Zabrak:** Falada pelos Zabrak, uma esp\\303\\251cie com chifres\\n* **Droid:** Falada pelos dr\\303\\263ides, rob\\303\\264s sencientes\\n\\nAl\\303\\251m disso, existem muitas outras l\\303\\255nguas menores e dialetos falados em diferentes planetas e culturas da gal\\303\\241xia de Star Wars.\"\n",
              " }\n",
              " role: \"model\",\n",
              " parts {\n",
              "   text: \"Quantos habitantes existem nesse universo?\"\n",
              " }\n",
              " role: \"user\",\n",
              " parts {\n",
              "   text: \"O n\\303\\272mero exato de habitantes no universo de Star Wars \\303\\251 desconhecido, pois a gal\\303\\241xia \\303\\251 vasta e cont\\303\\251m in\\303\\272meros planetas e sistemas estelares. No entanto, existem algumas estimativas:\\n\\n* **100 quatrilh\\303\\265es:** Esta \\303\\251 uma estimativa feita pelo autor de Star Wars, Timothy Zahn, em seu livro \\\"Specter of the Past\\\".\\n* **100 sextilh\\303\\265es:** Esta \\303\\251 uma estimativa feita pelo site Star Wars: The Old Republic.\\n* **1.000 sextilh\\303\\265es:** Esta \\303\\251 uma estimativa feita pelo site Star Wars: The Essential Atlas.\\n\\n\\303\\211 importante notar que essas s\\303\\243o apenas estimativas, e o n\\303\\272mero real de habitantes no universo de Star Wars pode ser muito maior ou menor.\\n\\nAl\\303\\251m disso, a popula\\303\\247\\303\\243o da gal\\303\\241xia n\\303\\243o \\303\\251 uniformemente distribu\\303\\255da. Alguns planetas, como Coruscant, s\\303\\243o densamente povoados, enquanto outros, como Tatooine, s\\303\\243o escassamente povoados.\\n\\nEm \\303\\272ltima an\\303\\241lise, o n\\303\\272mero exato de habitantes no universo de Star Wars \\303\\251 um mist\\303\\251rio, mas \\303\\251 certamente um n\\303\\272mero astron\\303\\264mico.\"\n",
              " }\n",
              " role: \"model\"]"
            ]
          },
          "metadata": {},
          "execution_count": 18
        }
      ]
    },
    {
      "cell_type": "code",
      "execution_count": 29,
      "metadata": {
        "id": "dAcbPBocgzeX",
        "colab": {
          "base_uri": "https://localhost:8080/",
          "height": 1000
        },
        "outputId": "09715252-3cdd-407e-bb61-78980878ced9"
      },
      "outputs": [
        {
          "output_type": "display_data",
          "data": {
            "text/plain": [
              "<IPython.core.display.Markdown object>"
            ],
            "text/markdown": "> **user**: Existe séries de star wars?"
          },
          "metadata": {}
        },
        {
          "output_type": "stream",
          "name": "stdout",
          "text": [
            "-------------------------------------------\n"
          ]
        },
        {
          "output_type": "display_data",
          "data": {
            "text/plain": [
              "<IPython.core.display.Markdown object>"
            ],
            "text/markdown": "> **model**: Sim, existem várias séries de Star Wars:\n> \n> **Séries de ação ao vivo:**\n> \n> * The Mandalorian\n> * The Book of Boba Fett\n> * Obi-Wan Kenobi\n> * Andor\n> * Ahsoka\n> * Skeleton Crew\n> * The Acolyte\n> \n> **Séries animadas:**\n> \n> * Star Wars: The Clone Wars\n> * Star Wars Rebels\n> * Star Wars: Resistance\n> * Star Wars: The Bad Batch\n> * Star Wars: Visions\n> \n> **Séries de antologia:**\n> \n> * Star Wars: Tales of the Jedi\n> * Star Wars: Galaxy of Adventures\n> \n> **Séries documentais:**\n> \n> * Star Wars: The Story Behind the Magic\n> * Star Wars: The Legacy Revealed\n> * Star Wars: The Mandalorian - Making of the Season\n> \n> **Séries de curta-metragem:**\n> \n> * Star Wars: Forces of Destiny\n> * Star Wars: Galaxy of Creatures\n> * Star Wars: Roll Out\n> * Star Wars: The Bad Batch - Clone Force 99\n> * Star Wars: Visions - The Duel"
          },
          "metadata": {}
        },
        {
          "output_type": "stream",
          "name": "stdout",
          "text": [
            "-------------------------------------------\n"
          ]
        },
        {
          "output_type": "display_data",
          "data": {
            "text/plain": [
              "<IPython.core.display.Markdown object>"
            ],
            "text/markdown": "> **user**: Qual a lingua tipica dessa série?"
          },
          "metadata": {}
        },
        {
          "output_type": "stream",
          "name": "stdout",
          "text": [
            "-------------------------------------------\n"
          ]
        },
        {
          "output_type": "display_data",
          "data": {
            "text/plain": [
              "<IPython.core.display.Markdown object>"
            ],
            "text/markdown": "> **model**: A língua típica da franquia Star Wars é o **Basic**, também conhecido como **Galactic Basic Standard**. É a língua franca da galáxia, falada pela maioria dos seres sencientes.\n> \n> No entanto, existem muitas outras línguas faladas na galáxia de Star Wars, incluindo:\n> \n> * **Huttese:** Falada pelos Hutts, uma espécie de gângsteres\n> * **Twi'leki:** Falada pelos Twi'leks, uma espécie com cabeças e caudas semelhantes a lekku\n> * **Wookiee:** Falada pelos Wookiees, uma espécie alta e peluda\n> * **Ewok:** Falada pelos Ewoks, uma espécie pequena e peluda\n> * **Mandaloriano:** Falada pelos Mandalorianos, uma cultura guerreira\n> * **Geonosiano:** Falada pelos Geonosianos, uma espécie insetóide\n> * **Zabrak:** Falada pelos Zabrak, uma espécie com chifres\n> * **Droid:** Falada pelos dróides, robôs sencientes\n> \n> Além disso, existem muitas outras línguas menores e dialetos falados em diferentes planetas e culturas da galáxia de Star Wars."
          },
          "metadata": {}
        },
        {
          "output_type": "stream",
          "name": "stdout",
          "text": [
            "-------------------------------------------\n"
          ]
        },
        {
          "output_type": "display_data",
          "data": {
            "text/plain": [
              "<IPython.core.display.Markdown object>"
            ],
            "text/markdown": "> **user**: Quantos habitantes existem nesse universo?"
          },
          "metadata": {}
        },
        {
          "output_type": "stream",
          "name": "stdout",
          "text": [
            "-------------------------------------------\n"
          ]
        },
        {
          "output_type": "display_data",
          "data": {
            "text/plain": [
              "<IPython.core.display.Markdown object>"
            ],
            "text/markdown": "> **model**: O número exato de habitantes no universo de Star Wars é desconhecido, pois a galáxia é vasta e contém inúmeros planetas e sistemas estelares. No entanto, existem algumas estimativas:\n> \n> * **100 quatrilhões:** Esta é uma estimativa feita pelo autor de Star Wars, Timothy Zahn, em seu livro \"Specter of the Past\".\n> * **100 sextilhões:** Esta é uma estimativa feita pelo site Star Wars: The Old Republic.\n> * **1.000 sextilhões:** Esta é uma estimativa feita pelo site Star Wars: The Essential Atlas.\n> \n> É importante notar que essas são apenas estimativas, e o número real de habitantes no universo de Star Wars pode ser muito maior ou menor.\n> \n> Além disso, a população da galáxia não é uniformemente distribuída. Alguns planetas, como Coruscant, são densamente povoados, enquanto outros, como Tatooine, são escassamente povoados.\n> \n> Em última análise, o número exato de habitantes no universo de Star Wars é um mistério, mas é certamente um número astronômico."
          },
          "metadata": {}
        },
        {
          "output_type": "stream",
          "name": "stdout",
          "text": [
            "-------------------------------------------\n"
          ]
        }
      ],
      "source": [
        "#Melhorando a visualização\n",
        "#Código disponível em https://ai.google.dev/tutorials/python_quickstart#import_packages\n",
        "import textwrap\n",
        "from IPython.display import display\n",
        "from IPython.display import Markdown\n",
        "\n",
        "def to_markdown(text):\n",
        "  text = text.replace('•', '  *')\n",
        "  return Markdown(textwrap.indent(text, '> ', predicate=lambda _: True))\n",
        "\n",
        "#Imprimindo o histórico\n",
        "for message in chat.history:\n",
        "  display(to_markdown(f'**{message.role}**: {message.parts[0].text}'))\n",
        "  print('-------------------------------------------')"
      ]
    }
  ]
}